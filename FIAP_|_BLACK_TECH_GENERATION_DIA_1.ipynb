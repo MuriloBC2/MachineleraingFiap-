{
  "nbformat": 4,
  "nbformat_minor": 5,
  "metadata": {
    "colab": {
      "provenance": [],
      "include_colab_link": true
    },
    "language_info": {
      "name": "python"
    },
    "kernelspec": {
      "name": "python3",
      "display_name": "Python 3"
    }
  },
  "cells": [
    {
      "cell_type": "markdown",
      "metadata": {
        "id": "view-in-github",
        "colab_type": "text"
      },
      "source": [
        "<a href=\"https://colab.research.google.com/github/MuriloBC2/MachineleraingFiap-/blob/main/FIAP_%7C_BLACK_TECH_GENERATION_DIA_1.ipynb\" target=\"_parent\"><img src=\"https://colab.research.google.com/assets/colab-badge.svg\" alt=\"Open In Colab\"/></a>"
      ]
    },
    {
      "id": "6e8cd9ad",
      "cell_type": "markdown",
      "source": [
        "# 1. Abertura e Contexto (2 min)\n",
        "\n",
        "**Objetivo:** apresentar o propósito do treinamento e como Python se conecta a dados, automação e IA.\n",
        "\n",
        "> Foque em praticidade: veremos fundamentos que você pode aplicar já no seu dia a dia."
      ],
      "metadata": {
        "id": "6e8cd9ad"
      }
    },
    {
      "id": "e8978aad",
      "cell_type": "code",
      "metadata": {
        "id": "e8978aad"
      },
      "execution_count": null,
      "source": [
        "# (Sem código necessário aqui) Este tópico é contextual.\n",
        "# Dica: garanta que todos tenham acesso ao Colab e entendam que Python roda célula a célula.\n"
      ],
      "outputs": []
    },
    {
      "id": "4a6f9394",
      "cell_type": "markdown",
      "source": [
        "# 2. História do Python (3 min)\n",
        "\n",
        "**Resumo:** criado por Guido van Rossum (1989/1991), foca em simplicidade e legibilidade. Hoje é uma das linguagens mais usadas.\n",
        "\n",
        "> Lembre o 'Zen of Python': clareza e um caminho óbvio para resolver problemas."
      ],
      "metadata": {
        "id": "4a6f9394"
      }
    },
    {
      "id": "49dc4394",
      "cell_type": "code",
      "metadata": {
        "colab": {
          "base_uri": "https://localhost:8080/"
        },
        "id": "49dc4394",
        "outputId": "2b6ec691-0adb-4d32-a084-e2c332668bac"
      },
      "execution_count": null,
      "source": [
        "# Dica de curiosidade rápida (opcional):\n",
        "import this  # Exibe o 'Zen of Python' no console\n"
      ],
      "outputs": [
        {
          "output_type": "stream",
          "name": "stdout",
          "text": [
            "The Zen of Python, by Tim Peters\n",
            "\n",
            "Beautiful is better than ugly.\n",
            "Explicit is better than implicit.\n",
            "Simple is better than complex.\n",
            "Complex is better than complicated.\n",
            "Flat is better than nested.\n",
            "Sparse is better than dense.\n",
            "Readability counts.\n",
            "Special cases aren't special enough to break the rules.\n",
            "Although practicality beats purity.\n",
            "Errors should never pass silently.\n",
            "Unless explicitly silenced.\n",
            "In the face of ambiguity, refuse the temptation to guess.\n",
            "There should be one-- and preferably only one --obvious way to do it.\n",
            "Although that way may not be obvious at first unless you're Dutch.\n",
            "Now is better than never.\n",
            "Although never is often better than *right* now.\n",
            "If the implementation is hard to explain, it's a bad idea.\n",
            "If the implementation is easy to explain, it may be a good idea.\n",
            "Namespaces are one honking great idea -- let's do more of those!\n"
          ]
        }
      ]
    },
    {
      "id": "b22f2327",
      "cell_type": "markdown",
      "source": [
        "# 3. Tipos de Dados Primitivos (5 min)\n",
        "\n",
        "**Resumo:** números (int/float), textos (str) e lógicos (bool) são a base de qualquer programa."
      ],
      "metadata": {
        "id": "b22f2327"
      }
    },
    {
      "cell_type": "code",
      "source": [],
      "metadata": {
        "id": "T0VidhQOB-ZA"
      },
      "id": "T0VidhQOB-ZA",
      "execution_count": null,
      "outputs": []
    },
    {
      "cell_type": "code",
      "source": [
        "# Variáveis básicas\n",
        "idade = 19                 # int\n",
        "altura = 1.74              # float\n",
        "local = \"FIAP Paulista\"    # str\n",
        "evento_fisico = True       # bool\n",
        "sobremesa = \"Barros\""
      ],
      "metadata": {
        "id": "l28CkC37hbAb"
      },
      "id": "l28CkC37hbAb",
      "execution_count": 4,
      "outputs": []
    },
    {
      "cell_type": "code",
      "source": [
        "print(idade)"
      ],
      "metadata": {
        "colab": {
          "base_uri": "https://localhost:8080/"
        },
        "id": "aQFwozQaCKG_",
        "outputId": "aa97143b-d358-4d63-ca2d-cb6090141c69"
      },
      "id": "aQFwozQaCKG_",
      "execution_count": 5,
      "outputs": [
        {
          "output_type": "stream",
          "name": "stdout",
          "text": [
            "19\n"
          ]
        }
      ]
    },
    {
      "cell_type": "code",
      "source": [],
      "metadata": {
        "id": "t1_ZkEhzB_mg"
      },
      "id": "t1_ZkEhzB_mg",
      "execution_count": null,
      "outputs": []
    },
    {
      "cell_type": "code",
      "source": [
        "print(altura)"
      ],
      "metadata": {
        "colab": {
          "base_uri": "https://localhost:8080/"
        },
        "id": "etyUoDTdhaxp",
        "outputId": "f8507929-f587-4d42-cc41-bb705a4e65eb"
      },
      "id": "etyUoDTdhaxp",
      "execution_count": 7,
      "outputs": [
        {
          "output_type": "stream",
          "name": "stdout",
          "text": [
            "1.74\n"
          ]
        }
      ]
    },
    {
      "cell_type": "code",
      "source": [],
      "metadata": {
        "id": "RZy21TCZhfQL"
      },
      "id": "RZy21TCZhfQL",
      "execution_count": null,
      "outputs": []
    },
    {
      "cell_type": "code",
      "source": [
        "# Conversões de tipo (type casting)\n",
        "numero = 10\n",
        "numero_decimal = float(numero)   # int -> float\n",
        "texto_numero = \"25\"\n",
        "numero_convertido = int(texto_numero)  # str -> int"
      ],
      "metadata": {
        "id": "Sy1ju6U2hfKo"
      },
      "id": "Sy1ju6U2hfKo",
      "execution_count": null,
      "outputs": []
    },
    {
      "cell_type": "code",
      "source": [],
      "metadata": {
        "id": "ySL022DIhfEk"
      },
      "id": "ySL022DIhfEk",
      "execution_count": null,
      "outputs": []
    },
    {
      "cell_type": "code",
      "source": [
        "# Verificando tipo\n",
        "type(idade)  # <class 'int'>\n",
        "nome = \"Ana\"\n",
        "type(nome)   # <class 'str'>"
      ],
      "metadata": {
        "colab": {
          "base_uri": "https://localhost:8080/"
        },
        "id": "nLnmQ8VQhl2i",
        "outputId": "b0654c5f-f794-426d-ef7b-cc3ce7e5ec78"
      },
      "id": "nLnmQ8VQhl2i",
      "execution_count": null,
      "outputs": [
        {
          "output_type": "execute_result",
          "data": {
            "text/plain": [
              "str"
            ]
          },
          "metadata": {},
          "execution_count": 40
        }
      ]
    },
    {
      "cell_type": "code",
      "source": [],
      "metadata": {
        "id": "eH6IEIpZhlsu"
      },
      "id": "eH6IEIpZhlsu",
      "execution_count": null,
      "outputs": []
    },
    {
      "cell_type": "code",
      "source": [
        "# Operações matemáticas\n",
        "soma = 6 + 10\n",
        "subtracao = 24 - 3\n",
        "multiplicacao = 9 * 7\n",
        "divisao = 17 / 2         # 7.5 (float)\n",
        "divisao_inteira = 14 // 2  # 7 (inteiro)\n",
        "resto = 15 % 2\n",
        "potencia = 2 ** 3"
      ],
      "metadata": {
        "id": "O1_Q9eukhe3V"
      },
      "id": "O1_Q9eukhe3V",
      "execution_count": 9,
      "outputs": []
    },
    {
      "cell_type": "code",
      "source": [
        "print(divisao_inteira)"
      ],
      "metadata": {
        "colab": {
          "base_uri": "https://localhost:8080/"
        },
        "id": "ma8z7BVaDAte",
        "outputId": "3f2f360e-994a-4258-ad3a-1072ec9de26a"
      },
      "id": "ma8z7BVaDAte",
      "execution_count": 11,
      "outputs": [
        {
          "output_type": "stream",
          "name": "stdout",
          "text": [
            "7\n"
          ]
        }
      ]
    },
    {
      "cell_type": "code",
      "source": [],
      "metadata": {
        "id": "TLLUqnZAC_Dl"
      },
      "id": "TLLUqnZAC_Dl",
      "execution_count": null,
      "outputs": []
    },
    {
      "cell_type": "code",
      "source": [],
      "metadata": {
        "id": "--MvhdpuhrFq"
      },
      "id": "--MvhdpuhrFq",
      "execution_count": null,
      "outputs": []
    },
    {
      "cell_type": "code",
      "source": [
        "# Strings – concatenação e repetição\n",
        "saudacao = \"Olá\" + \" \" + \"Mundo\"\n",
        "eco = \"Python \" * 3  # repete a string 3 vezes"
      ],
      "metadata": {
        "id": "mJDun5cLhq8z"
      },
      "id": "mJDun5cLhq8z",
      "execution_count": null,
      "outputs": []
    },
    {
      "cell_type": "code",
      "source": [],
      "metadata": {
        "id": "TuFbiEtFhvjT"
      },
      "id": "TuFbiEtFhvjT",
      "execution_count": null,
      "outputs": []
    },
    {
      "cell_type": "code",
      "source": [
        "# Métodos úteis\n",
        "texto = \"Python\"\n",
        "maiusculo = texto.upper()\n",
        "minusculo = texto.lower()\n",
        "tamanho = len(texto)\n",
        "primeira_letra = texto[0]\n",
        "ultimas_tres = texto[-3:]"
      ],
      "metadata": {
        "id": "2d8UAdCihvgL"
      },
      "id": "2d8UAdCihvgL",
      "execution_count": null,
      "outputs": []
    },
    {
      "cell_type": "code",
      "source": [],
      "metadata": {
        "id": "llXHhx-Th3UB"
      },
      "id": "llXHhx-Th3UB",
      "execution_count": null,
      "outputs": []
    },
    {
      "cell_type": "code",
      "source": [],
      "metadata": {
        "id": "HezaA504hvdS"
      },
      "id": "HezaA504hvdS",
      "execution_count": null,
      "outputs": []
    },
    {
      "cell_type": "code",
      "source": [
        "# Booleanos – operações lógicas e comparações\n",
        "verdadeiro = True\n",
        "falso = False\n",
        "resultado_and = True and False   # False\n",
        "resultado_or = True or False     # True\n",
        "resultado_not = not True         # False"
      ],
      "metadata": {
        "id": "kBdc4toBhvXv"
      },
      "id": "kBdc4toBhvXv",
      "execution_count": null,
      "outputs": []
    },
    {
      "cell_type": "code",
      "source": [],
      "metadata": {
        "id": "ORi00WwHh41W"
      },
      "id": "ORi00WwHh41W",
      "execution_count": null,
      "outputs": []
    },
    {
      "cell_type": "code",
      "source": [
        "maior = 10 > 5        # True\n",
        "igual = 7 == 7        # True\n",
        "diferente = 3 != 4    # True"
      ],
      "metadata": {
        "id": "pLmbbYizhvIy"
      },
      "id": "pLmbbYizhvIy",
      "execution_count": null,
      "outputs": []
    },
    {
      "id": "bc3592bd",
      "cell_type": "code",
      "metadata": {
        "id": "bc3592bd"
      },
      "execution_count": null,
      "source": [],
      "outputs": []
    },
    {
      "id": "d93ee6ae",
      "cell_type": "markdown",
      "source": [
        "# 4. Objetos no Python (3 min)\n",
        "\n",
        "**Resumo:** tudo em Python é objeto; objetos têm atributos e métodos."
      ],
      "metadata": {
        "id": "d93ee6ae"
      }
    },
    {
      "cell_type": "code",
      "source": [
        "# Exemplo com strings (métodos)\n",
        "texto = \"Murilo\"\n",
        "print(texto.upper())      # 'PYTHON'\n",
        "print(texto.lower())      # 'python'\n",
        "print(texto.capitalize()) # 'Python'\n",
        "print(len(texto))         # 6"
      ],
      "metadata": {
        "colab": {
          "base_uri": "https://localhost:8080/"
        },
        "id": "T__U2pOoiCIs",
        "outputId": "e10afc08-bb6f-427c-b358-7e405a76074e"
      },
      "id": "T__U2pOoiCIs",
      "execution_count": 12,
      "outputs": [
        {
          "output_type": "stream",
          "name": "stdout",
          "text": [
            "MURILO\n",
            "murilo\n",
            "Murilo\n",
            "6\n"
          ]
        }
      ]
    },
    {
      "id": "ebe3a88d",
      "cell_type": "code",
      "metadata": {
        "colab": {
          "base_uri": "https://localhost:8080/"
        },
        "id": "ebe3a88d",
        "outputId": "fba2150c-2b10-4ec9-b07d-c70503749f8f"
      },
      "execution_count": null,
      "source": [
        "# Exemplo simples com números\n",
        "numero = 10\n",
        "print(type(numero))  # <class 'int'>\n",
        "print(numero + 5)    # 15\n",
        "print(numero - 3)    # 7\n",
        "print(numero * 2)    # 20\n",
        "print(numero / 2)    # 5.0\n"
      ],
      "outputs": [
        {
          "output_type": "stream",
          "name": "stdout",
          "text": [
            "<class 'int'>\n",
            "15\n",
            "7\n",
            "20\n",
            "5.0\n"
          ]
        }
      ]
    },
    {
      "id": "e93fb67a",
      "cell_type": "markdown",
      "source": [
        "# 5. Funções (5 min)\n",
        "\n",
        "**Resumo:** blocos de código reutilizáveis que podem receber parâmetros e retornar valores."
      ],
      "metadata": {
        "id": "e93fb67a"
      }
    },
    {
      "cell_type": "code",
      "source": [
        "# Funções embutidas úteis\n",
        "print(max(3, 7, 2))                # 7\n",
        "print(min(3, 7, 2))                # 2\n",
        "print(sum([3, 7, 2]))              # 12\n",
        "print(len(\"Python\"))               # 6\n",
        "print(\"aprendendo python\".title()) # 'Aprendendo Python'\n",
        "print(\"  texto com espaços  \".strip())  # 'texto com espaços'"
      ],
      "metadata": {
        "colab": {
          "base_uri": "https://localhost:8080/"
        },
        "id": "oGsZcVUxjf33",
        "outputId": "38b20c41-f3ea-4cc0-ee07-9529cf949422"
      },
      "id": "oGsZcVUxjf33",
      "execution_count": 13,
      "outputs": [
        {
          "output_type": "stream",
          "name": "stdout",
          "text": [
            "7\n",
            "2\n",
            "12\n",
            "6\n",
            "Aprendendo Python\n",
            "texto com espaços\n"
          ]
        }
      ]
    },
    {
      "cell_type": "code",
      "source": [],
      "metadata": {
        "id": "n-x9XsBejgv4"
      },
      "id": "n-x9XsBejgv4",
      "execution_count": null,
      "outputs": []
    },
    {
      "cell_type": "code",
      "source": [
        "# Média (via statistics)\n",
        "import statistics\n",
        "print(statistics.mean([3, 7, 2]))  # 4"
      ],
      "metadata": {
        "colab": {
          "base_uri": "https://localhost:8080/"
        },
        "id": "-ayhQzAejgl4",
        "outputId": "06cb909c-192d-4161-bc72-dc19915fed53"
      },
      "id": "-ayhQzAejgl4",
      "execution_count": 14,
      "outputs": [
        {
          "output_type": "stream",
          "name": "stdout",
          "text": [
            "4\n"
          ]
        }
      ]
    },
    {
      "cell_type": "code",
      "source": [],
      "metadata": {
        "id": "AH1tx6I_jmJO"
      },
      "id": "AH1tx6I_jmJO",
      "execution_count": null,
      "outputs": []
    },
    {
      "cell_type": "code",
      "source": [
        "# Criando funções\n",
        "def saudacao():\n",
        "    print(\"Olá! Seja bem-vindo ao Python.\")\n",
        "saudacao()"
      ],
      "metadata": {
        "colab": {
          "base_uri": "https://localhost:8080/"
        },
        "id": "G1OeUNS4jmGO",
        "outputId": "bd6ffb57-31f2-4e7f-8472-b5979a5ff69b"
      },
      "id": "G1OeUNS4jmGO",
      "execution_count": 15,
      "outputs": [
        {
          "output_type": "stream",
          "name": "stdout",
          "text": [
            "Olá! Seja bem-vindo ao Python.\n"
          ]
        }
      ]
    },
    {
      "cell_type": "code",
      "source": [],
      "metadata": {
        "id": "DHi-Lgc8jl9X"
      },
      "id": "DHi-Lgc8jl9X",
      "execution_count": null,
      "outputs": []
    },
    {
      "cell_type": "code",
      "source": [
        "def soma(a, b):\n",
        "    return a + b\n",
        "resultado = soma(5, 3)\n",
        "print(resultado)  # 8"
      ],
      "metadata": {
        "colab": {
          "base_uri": "https://localhost:8080/"
        },
        "id": "qKeuZ-2TjfmH",
        "outputId": "b8253015-81bc-4c6b-d917-14593984937c"
      },
      "id": "qKeuZ-2TjfmH",
      "execution_count": 16,
      "outputs": [
        {
          "output_type": "stream",
          "name": "stdout",
          "text": [
            "8\n"
          ]
        }
      ]
    },
    {
      "cell_type": "code",
      "source": [],
      "metadata": {
        "id": "_BvhWIugjtVD"
      },
      "id": "_BvhWIugjtVD",
      "execution_count": null,
      "outputs": []
    },
    {
      "id": "6693878d",
      "cell_type": "markdown",
      "source": [
        "# 6. Laços de Repetição (5 min)\n",
        "\n",
        "**Resumo:** execute ações repetidamente com `for` (sequências) e `while` (enquanto condição for verdadeira)."
      ],
      "metadata": {
        "id": "6693878d"
      }
    },
    {
      "cell_type": "code",
      "source": [
        "# Percorrendo uma lista\n",
        "frutas = [\"maçã\", \"banana\", \"laranja\", 1, 2,3,4]\n",
        "for cliente in frutas:\n",
        "   cliente == \"platinum\""
      ],
      "metadata": {
        "colab": {
          "base_uri": "https://localhost:8080/"
        },
        "id": "UhGlI9VOjxFh",
        "outputId": "df71d041-9c1d-49f9-f32a-09e535f040af"
      },
      "id": "UhGlI9VOjxFh",
      "execution_count": null,
      "outputs": [
        {
          "output_type": "stream",
          "name": "stdout",
          "text": [
            "maçã\n",
            "banana\n",
            "laranja\n",
            "1\n",
            "2\n",
            "3\n",
            "4\n"
          ]
        }
      ]
    },
    {
      "cell_type": "code",
      "source": [],
      "metadata": {
        "id": "35Wbjo8Ljw9a"
      },
      "id": "35Wbjo8Ljw9a",
      "execution_count": null,
      "outputs": []
    },
    {
      "cell_type": "code",
      "source": [],
      "metadata": {
        "id": "iLFysOLRj3YG"
      },
      "id": "iLFysOLRj3YG",
      "execution_count": null,
      "outputs": []
    },
    {
      "cell_type": "code",
      "source": [
        "# Repetindo um número fixo de vezes\n",
        "for i in range(5):\n",
        "    print(\"Repetição número\", i)"
      ],
      "metadata": {
        "colab": {
          "base_uri": "https://localhost:8080/"
        },
        "id": "yqskLkVmjww1",
        "outputId": "aa255e25-4336-459d-8763-0b0031372b85"
      },
      "id": "yqskLkVmjww1",
      "execution_count": null,
      "outputs": [
        {
          "output_type": "stream",
          "name": "stdout",
          "text": [
            "Repetição número 0\n",
            "Repetição número 1\n",
            "Repetição número 2\n",
            "Repetição número 3\n",
            "Repetição número 4\n"
          ]
        }
      ]
    },
    {
      "cell_type": "code",
      "source": [],
      "metadata": {
        "id": "XtmZBU76j6NM"
      },
      "id": "XtmZBU76j6NM",
      "execution_count": null,
      "outputs": []
    },
    {
      "cell_type": "code",
      "source": [
        "# while até a condição parar de ser verdadeira\n",
        "contador = 0\n",
        "while contador < 3:\n",
        "    print(\"Contador:\", contador)\n",
        "    contador += 1"
      ],
      "metadata": {
        "colab": {
          "base_uri": "https://localhost:8080/"
        },
        "id": "_DaBQXj5j5F8",
        "outputId": "485254a0-3c4e-4966-b26d-aded523a2559"
      },
      "id": "_DaBQXj5j5F8",
      "execution_count": null,
      "outputs": [
        {
          "output_type": "stream",
          "name": "stdout",
          "text": [
            "Contador: 0\n",
            "Contador: 1\n",
            "Contador: 2\n"
          ]
        }
      ]
    },
    {
      "cell_type": "code",
      "source": [],
      "metadata": {
        "id": "Bq-okMqvj7Pt"
      },
      "id": "Bq-okMqvj7Pt",
      "execution_count": null,
      "outputs": []
    },
    {
      "id": "2e866f8b",
      "cell_type": "code",
      "metadata": {
        "colab": {
          "base_uri": "https://localhost:8080/"
        },
        "id": "2e866f8b",
        "outputId": "b18d02e8-8c6e-47bb-f6d5-40e548be32da"
      },
      "execution_count": null,
      "source": [
        "# Exemplo prático: números pares até 10\n",
        "for numero in range(11):\n",
        "    if numero % 2 == 0:\n",
        "        print(numero)\n"
      ],
      "outputs": [
        {
          "output_type": "stream",
          "name": "stdout",
          "text": [
            "0\n",
            "2\n",
            "4\n",
            "6\n",
            "8\n",
            "10\n"
          ]
        }
      ]
    },
    {
      "id": "e89dced2",
      "cell_type": "markdown",
      "source": [
        "# 7. Requisição Básica de API (8 min)\n",
        "\n",
        "**Resumo:** APIs permitem buscar/enviar dados de/para outros sistemas. Exemplo com OMDB (filmes)."
      ],
      "metadata": {
        "id": "e89dced2"
      }
    },
    {
      "id": "e931fad6",
      "cell_type": "code",
      "metadata": {
        "id": "e931fad6"
      },
      "execution_count": 17,
      "source": [
        "# OMDB: crie sua conta e pegue sua API Key em http://www.omdbapi.com/\n",
        "import requests\n",
        "import json\n",
        "\n",
        "def requisita_dados_filme(pesquisa):\n",
        "    # Substitua pela sua chave pessoal (cada aluno deve ter a sua)\n",
        "    api_key = 'b82eb1ca'\n",
        "    url_req = 'http://www.omdbapi.com/?apikey={}&t={}'.format(api_key, pesquisa.lower())\n",
        "    req_result = json.loads(requests.get(url_req).text)\n",
        "    return req_result\n",
        "\n",
        "# Teste (comente se estiver sem chave):\n",
        "# filme = requisita_dados_filme(\"Inception\")\n",
        "# print(filme)\n",
        "\n",
        "\n"
      ],
      "outputs": []
    },
    {
      "cell_type": "code",
      "source": [],
      "metadata": {
        "id": "gtfSa734JfZ5"
      },
      "id": "gtfSa734JfZ5",
      "execution_count": null,
      "outputs": []
    },
    {
      "cell_type": "code",
      "source": [
        "# Teste (comente se estiver sem chave):\n",
        "filme = requisita_dados_filme(\"Superman\")\n",
        "print(filme)"
      ],
      "metadata": {
        "colab": {
          "base_uri": "https://localhost:8080/"
        },
        "id": "X_X1VgmJkBj5",
        "outputId": "a55befa9-6333-489e-b10c-9ff6996674d1"
      },
      "id": "X_X1VgmJkBj5",
      "execution_count": 23,
      "outputs": [
        {
          "output_type": "stream",
          "name": "stdout",
          "text": [
            "{'Title': 'Superman', 'Year': '1978', 'Rated': 'PG', 'Released': '15 Dec 1978', 'Runtime': '143 min', 'Genre': 'Action, Adventure, Sci-Fi', 'Director': 'Richard Donner', 'Writer': 'Jerry Siegel, Joe Shuster, Mario Puzo', 'Actors': 'Christopher Reeve, Margot Kidder, Gene Hackman', 'Plot': \"An alien orphan is sent from his dying planet to Earth, where he grows up to become his adoptive home's first and greatest superhero.\", 'Language': 'English', 'Country': 'United Kingdom, United States', 'Awards': 'Nominated for 3 Oscars. 19 wins & 23 nominations total', 'Poster': 'https://m.media-amazon.com/images/M/MV5BMzFlZDJjMDAtZDYxZS00NzZhLTk2ODMtZWRlODA3Njk3ZTdmXkEyXkFqcGc@._V1_SX300.jpg', 'Ratings': [{'Source': 'Internet Movie Database', 'Value': '7.4/10'}, {'Source': 'Rotten Tomatoes', 'Value': '88%'}, {'Source': 'Metacritic', 'Value': '82/100'}], 'Metascore': '82', 'imdbRating': '7.4', 'imdbVotes': '201,467', 'imdbID': 'tt0078346', 'Type': 'movie', 'DVD': 'N/A', 'BoxOffice': '$134,478,449', 'Production': 'N/A', 'Website': 'N/A', 'Response': 'True'}\n"
          ]
        }
      ]
    },
    {
      "cell_type": "code",
      "source": [
        "json.loads(filme)"
      ],
      "metadata": {
        "id": "-W58UEjEkBg0",
        "colab": {
          "base_uri": "https://localhost:8080/",
          "height": 263
        },
        "outputId": "59d7b8e0-90ca-4340-ae1f-d90155e6400f"
      },
      "id": "-W58UEjEkBg0",
      "execution_count": 24,
      "outputs": [
        {
          "output_type": "error",
          "ename": "TypeError",
          "evalue": "the JSON object must be str, bytes or bytearray, not dict",
          "traceback": [
            "\u001b[0;31m---------------------------------------------------------------------------\u001b[0m",
            "\u001b[0;31mTypeError\u001b[0m                                 Traceback (most recent call last)",
            "\u001b[0;32m/tmp/ipython-input-1133658617.py\u001b[0m in \u001b[0;36m<cell line: 0>\u001b[0;34m()\u001b[0m\n\u001b[0;32m----> 1\u001b[0;31m \u001b[0mjson\u001b[0m\u001b[0;34m.\u001b[0m\u001b[0mloads\u001b[0m\u001b[0;34m(\u001b[0m\u001b[0mfilme\u001b[0m\u001b[0;34m)\u001b[0m\u001b[0;34m\u001b[0m\u001b[0;34m\u001b[0m\u001b[0m\n\u001b[0m",
            "\u001b[0;32m/usr/lib/python3.11/json/__init__.py\u001b[0m in \u001b[0;36mloads\u001b[0;34m(s, cls, object_hook, parse_float, parse_int, parse_constant, object_pairs_hook, **kw)\u001b[0m\n\u001b[1;32m    337\u001b[0m     \u001b[0;32melse\u001b[0m\u001b[0;34m:\u001b[0m\u001b[0;34m\u001b[0m\u001b[0;34m\u001b[0m\u001b[0m\n\u001b[1;32m    338\u001b[0m         \u001b[0;32mif\u001b[0m \u001b[0;32mnot\u001b[0m \u001b[0misinstance\u001b[0m\u001b[0;34m(\u001b[0m\u001b[0ms\u001b[0m\u001b[0;34m,\u001b[0m \u001b[0;34m(\u001b[0m\u001b[0mbytes\u001b[0m\u001b[0;34m,\u001b[0m \u001b[0mbytearray\u001b[0m\u001b[0;34m)\u001b[0m\u001b[0;34m)\u001b[0m\u001b[0;34m:\u001b[0m\u001b[0;34m\u001b[0m\u001b[0;34m\u001b[0m\u001b[0m\n\u001b[0;32m--> 339\u001b[0;31m             raise TypeError(f'the JSON object must be str, bytes or bytearray, '\n\u001b[0m\u001b[1;32m    340\u001b[0m                             f'not {s.__class__.__name__}')\n\u001b[1;32m    341\u001b[0m         \u001b[0ms\u001b[0m \u001b[0;34m=\u001b[0m \u001b[0ms\u001b[0m\u001b[0;34m.\u001b[0m\u001b[0mdecode\u001b[0m\u001b[0;34m(\u001b[0m\u001b[0mdetect_encoding\u001b[0m\u001b[0;34m(\u001b[0m\u001b[0ms\u001b[0m\u001b[0;34m)\u001b[0m\u001b[0;34m,\u001b[0m \u001b[0;34m'surrogatepass'\u001b[0m\u001b[0;34m)\u001b[0m\u001b[0;34m\u001b[0m\u001b[0;34m\u001b[0m\u001b[0m\n",
            "\u001b[0;31mTypeError\u001b[0m: the JSON object must be str, bytes or bytearray, not dict"
          ]
        }
      ]
    },
    {
      "cell_type": "code",
      "source": [],
      "metadata": {
        "id": "QfVUDh6mJgZX"
      },
      "id": "QfVUDh6mJgZX",
      "execution_count": null,
      "outputs": []
    },
    {
      "cell_type": "code",
      "source": [
        "# Impressão formatada (campos comuns)\n",
        "dados = requisita_dados_filme(\"Star wars\")\n",
        "print(\"Título:\", dados.get(\"Title\"))\n",
        "print(\"Ano:\", dados.get(\"Plot\"))\n",
        "print(\"Nota IMDb:\", dados.get(\"imdbRating\"))"
      ],
      "metadata": {
        "colab": {
          "base_uri": "https://localhost:8080/"
        },
        "id": "pdERmNH0kKq8",
        "outputId": "889956e2-8a89-490e-c4bd-dc545fb81236"
      },
      "id": "pdERmNH0kKq8",
      "execution_count": 25,
      "outputs": [
        {
          "output_type": "stream",
          "name": "stdout",
          "text": [
            "Título: Star Wars: Episode IV - A New Hope\n",
            "Ano: Luke Skywalker joins forces with a Jedi Knight, a cocky pilot, a Wookiee and two droids to save the galaxy from the Empire's world-destroying battle station, while also attempting to rescue Princess Leia from the mysterious Darth ...\n",
            "Nota IMDb: 8.6\n"
          ]
        }
      ]
    },
    {
      "cell_type": "code",
      "source": [],
      "metadata": {
        "id": "-5oLrODIkKiv"
      },
      "id": "-5oLrODIkKiv",
      "execution_count": null,
      "outputs": []
    },
    {
      "cell_type": "code",
      "source": [],
      "metadata": {
        "id": "k3VWVwJrkBSo"
      },
      "id": "k3VWVwJrkBSo",
      "execution_count": null,
      "outputs": []
    },
    {
      "id": "bf9e95e4",
      "cell_type": "markdown",
      "source": [
        "# 8. Python no Contexto de Inteligência Artificial (5 min)\n",
        "\n",
        "**Resumo:** devido ao tempo curto, vamos usar um subsegmento da IA: **Machine Learning**.\n",
        "Exemplo de **classificação** com `DecisionTreeClassifier` (maçã vs. laranja por peso)."
      ],
      "metadata": {
        "id": "bf9e95e4"
      }
    },
    {
      "id": "31d83c0a",
      "cell_type": "code",
      "metadata": {
        "colab": {
          "base_uri": "https://localhost:8080/",
          "height": 80
        },
        "id": "31d83c0a",
        "outputId": "e71ac6d8-e69d-49ec-a483-0ded2194ac0a"
      },
      "execution_count": 26,
      "source": [
        "from sklearn.tree import DecisionTreeClassifier\n",
        "\n",
        "# Dados de treino: [peso_em_gramas]\n",
        "pesos = [\n",
        "    [130], [135], [140], [145], [150], [155],  # maçãs\n",
        "    [170], [175], [180], [185], [190], [195]   # laranjas\n",
        "]\n",
        "rotulos = [\n",
        "    \"maçã\", \"maçã\", \"maçã\", \"maçã\", \"maçã\", \"maçã\",\n",
        "    \"laranja\", \"laranja\", \"laranja\", \"laranja\", \"laranja\", \"laranja\"\n",
        "]\n",
        "\n",
        "# Criar e treinar o modelo\n",
        "modelo = DecisionTreeClassifier()\n",
        "modelo.fit(pesos, rotulos)\n",
        "\n",
        "\n"
      ],
      "outputs": [
        {
          "output_type": "execute_result",
          "data": {
            "text/plain": [
              "DecisionTreeClassifier()"
            ],
            "text/html": [
              "<style>#sk-container-id-1 {\n",
              "  /* Definition of color scheme common for light and dark mode */\n",
              "  --sklearn-color-text: #000;\n",
              "  --sklearn-color-text-muted: #666;\n",
              "  --sklearn-color-line: gray;\n",
              "  /* Definition of color scheme for unfitted estimators */\n",
              "  --sklearn-color-unfitted-level-0: #fff5e6;\n",
              "  --sklearn-color-unfitted-level-1: #f6e4d2;\n",
              "  --sklearn-color-unfitted-level-2: #ffe0b3;\n",
              "  --sklearn-color-unfitted-level-3: chocolate;\n",
              "  /* Definition of color scheme for fitted estimators */\n",
              "  --sklearn-color-fitted-level-0: #f0f8ff;\n",
              "  --sklearn-color-fitted-level-1: #d4ebff;\n",
              "  --sklearn-color-fitted-level-2: #b3dbfd;\n",
              "  --sklearn-color-fitted-level-3: cornflowerblue;\n",
              "\n",
              "  /* Specific color for light theme */\n",
              "  --sklearn-color-text-on-default-background: var(--sg-text-color, var(--theme-code-foreground, var(--jp-content-font-color1, black)));\n",
              "  --sklearn-color-background: var(--sg-background-color, var(--theme-background, var(--jp-layout-color0, white)));\n",
              "  --sklearn-color-border-box: var(--sg-text-color, var(--theme-code-foreground, var(--jp-content-font-color1, black)));\n",
              "  --sklearn-color-icon: #696969;\n",
              "\n",
              "  @media (prefers-color-scheme: dark) {\n",
              "    /* Redefinition of color scheme for dark theme */\n",
              "    --sklearn-color-text-on-default-background: var(--sg-text-color, var(--theme-code-foreground, var(--jp-content-font-color1, white)));\n",
              "    --sklearn-color-background: var(--sg-background-color, var(--theme-background, var(--jp-layout-color0, #111)));\n",
              "    --sklearn-color-border-box: var(--sg-text-color, var(--theme-code-foreground, var(--jp-content-font-color1, white)));\n",
              "    --sklearn-color-icon: #878787;\n",
              "  }\n",
              "}\n",
              "\n",
              "#sk-container-id-1 {\n",
              "  color: var(--sklearn-color-text);\n",
              "}\n",
              "\n",
              "#sk-container-id-1 pre {\n",
              "  padding: 0;\n",
              "}\n",
              "\n",
              "#sk-container-id-1 input.sk-hidden--visually {\n",
              "  border: 0;\n",
              "  clip: rect(1px 1px 1px 1px);\n",
              "  clip: rect(1px, 1px, 1px, 1px);\n",
              "  height: 1px;\n",
              "  margin: -1px;\n",
              "  overflow: hidden;\n",
              "  padding: 0;\n",
              "  position: absolute;\n",
              "  width: 1px;\n",
              "}\n",
              "\n",
              "#sk-container-id-1 div.sk-dashed-wrapped {\n",
              "  border: 1px dashed var(--sklearn-color-line);\n",
              "  margin: 0 0.4em 0.5em 0.4em;\n",
              "  box-sizing: border-box;\n",
              "  padding-bottom: 0.4em;\n",
              "  background-color: var(--sklearn-color-background);\n",
              "}\n",
              "\n",
              "#sk-container-id-1 div.sk-container {\n",
              "  /* jupyter's `normalize.less` sets `[hidden] { display: none; }`\n",
              "     but bootstrap.min.css set `[hidden] { display: none !important; }`\n",
              "     so we also need the `!important` here to be able to override the\n",
              "     default hidden behavior on the sphinx rendered scikit-learn.org.\n",
              "     See: https://github.com/scikit-learn/scikit-learn/issues/21755 */\n",
              "  display: inline-block !important;\n",
              "  position: relative;\n",
              "}\n",
              "\n",
              "#sk-container-id-1 div.sk-text-repr-fallback {\n",
              "  display: none;\n",
              "}\n",
              "\n",
              "div.sk-parallel-item,\n",
              "div.sk-serial,\n",
              "div.sk-item {\n",
              "  /* draw centered vertical line to link estimators */\n",
              "  background-image: linear-gradient(var(--sklearn-color-text-on-default-background), var(--sklearn-color-text-on-default-background));\n",
              "  background-size: 2px 100%;\n",
              "  background-repeat: no-repeat;\n",
              "  background-position: center center;\n",
              "}\n",
              "\n",
              "/* Parallel-specific style estimator block */\n",
              "\n",
              "#sk-container-id-1 div.sk-parallel-item::after {\n",
              "  content: \"\";\n",
              "  width: 100%;\n",
              "  border-bottom: 2px solid var(--sklearn-color-text-on-default-background);\n",
              "  flex-grow: 1;\n",
              "}\n",
              "\n",
              "#sk-container-id-1 div.sk-parallel {\n",
              "  display: flex;\n",
              "  align-items: stretch;\n",
              "  justify-content: center;\n",
              "  background-color: var(--sklearn-color-background);\n",
              "  position: relative;\n",
              "}\n",
              "\n",
              "#sk-container-id-1 div.sk-parallel-item {\n",
              "  display: flex;\n",
              "  flex-direction: column;\n",
              "}\n",
              "\n",
              "#sk-container-id-1 div.sk-parallel-item:first-child::after {\n",
              "  align-self: flex-end;\n",
              "  width: 50%;\n",
              "}\n",
              "\n",
              "#sk-container-id-1 div.sk-parallel-item:last-child::after {\n",
              "  align-self: flex-start;\n",
              "  width: 50%;\n",
              "}\n",
              "\n",
              "#sk-container-id-1 div.sk-parallel-item:only-child::after {\n",
              "  width: 0;\n",
              "}\n",
              "\n",
              "/* Serial-specific style estimator block */\n",
              "\n",
              "#sk-container-id-1 div.sk-serial {\n",
              "  display: flex;\n",
              "  flex-direction: column;\n",
              "  align-items: center;\n",
              "  background-color: var(--sklearn-color-background);\n",
              "  padding-right: 1em;\n",
              "  padding-left: 1em;\n",
              "}\n",
              "\n",
              "\n",
              "/* Toggleable style: style used for estimator/Pipeline/ColumnTransformer box that is\n",
              "clickable and can be expanded/collapsed.\n",
              "- Pipeline and ColumnTransformer use this feature and define the default style\n",
              "- Estimators will overwrite some part of the style using the `sk-estimator` class\n",
              "*/\n",
              "\n",
              "/* Pipeline and ColumnTransformer style (default) */\n",
              "\n",
              "#sk-container-id-1 div.sk-toggleable {\n",
              "  /* Default theme specific background. It is overwritten whether we have a\n",
              "  specific estimator or a Pipeline/ColumnTransformer */\n",
              "  background-color: var(--sklearn-color-background);\n",
              "}\n",
              "\n",
              "/* Toggleable label */\n",
              "#sk-container-id-1 label.sk-toggleable__label {\n",
              "  cursor: pointer;\n",
              "  display: flex;\n",
              "  width: 100%;\n",
              "  margin-bottom: 0;\n",
              "  padding: 0.5em;\n",
              "  box-sizing: border-box;\n",
              "  text-align: center;\n",
              "  align-items: start;\n",
              "  justify-content: space-between;\n",
              "  gap: 0.5em;\n",
              "}\n",
              "\n",
              "#sk-container-id-1 label.sk-toggleable__label .caption {\n",
              "  font-size: 0.6rem;\n",
              "  font-weight: lighter;\n",
              "  color: var(--sklearn-color-text-muted);\n",
              "}\n",
              "\n",
              "#sk-container-id-1 label.sk-toggleable__label-arrow:before {\n",
              "  /* Arrow on the left of the label */\n",
              "  content: \"▸\";\n",
              "  float: left;\n",
              "  margin-right: 0.25em;\n",
              "  color: var(--sklearn-color-icon);\n",
              "}\n",
              "\n",
              "#sk-container-id-1 label.sk-toggleable__label-arrow:hover:before {\n",
              "  color: var(--sklearn-color-text);\n",
              "}\n",
              "\n",
              "/* Toggleable content - dropdown */\n",
              "\n",
              "#sk-container-id-1 div.sk-toggleable__content {\n",
              "  max-height: 0;\n",
              "  max-width: 0;\n",
              "  overflow: hidden;\n",
              "  text-align: left;\n",
              "  /* unfitted */\n",
              "  background-color: var(--sklearn-color-unfitted-level-0);\n",
              "}\n",
              "\n",
              "#sk-container-id-1 div.sk-toggleable__content.fitted {\n",
              "  /* fitted */\n",
              "  background-color: var(--sklearn-color-fitted-level-0);\n",
              "}\n",
              "\n",
              "#sk-container-id-1 div.sk-toggleable__content pre {\n",
              "  margin: 0.2em;\n",
              "  border-radius: 0.25em;\n",
              "  color: var(--sklearn-color-text);\n",
              "  /* unfitted */\n",
              "  background-color: var(--sklearn-color-unfitted-level-0);\n",
              "}\n",
              "\n",
              "#sk-container-id-1 div.sk-toggleable__content.fitted pre {\n",
              "  /* unfitted */\n",
              "  background-color: var(--sklearn-color-fitted-level-0);\n",
              "}\n",
              "\n",
              "#sk-container-id-1 input.sk-toggleable__control:checked~div.sk-toggleable__content {\n",
              "  /* Expand drop-down */\n",
              "  max-height: 200px;\n",
              "  max-width: 100%;\n",
              "  overflow: auto;\n",
              "}\n",
              "\n",
              "#sk-container-id-1 input.sk-toggleable__control:checked~label.sk-toggleable__label-arrow:before {\n",
              "  content: \"▾\";\n",
              "}\n",
              "\n",
              "/* Pipeline/ColumnTransformer-specific style */\n",
              "\n",
              "#sk-container-id-1 div.sk-label input.sk-toggleable__control:checked~label.sk-toggleable__label {\n",
              "  color: var(--sklearn-color-text);\n",
              "  background-color: var(--sklearn-color-unfitted-level-2);\n",
              "}\n",
              "\n",
              "#sk-container-id-1 div.sk-label.fitted input.sk-toggleable__control:checked~label.sk-toggleable__label {\n",
              "  background-color: var(--sklearn-color-fitted-level-2);\n",
              "}\n",
              "\n",
              "/* Estimator-specific style */\n",
              "\n",
              "/* Colorize estimator box */\n",
              "#sk-container-id-1 div.sk-estimator input.sk-toggleable__control:checked~label.sk-toggleable__label {\n",
              "  /* unfitted */\n",
              "  background-color: var(--sklearn-color-unfitted-level-2);\n",
              "}\n",
              "\n",
              "#sk-container-id-1 div.sk-estimator.fitted input.sk-toggleable__control:checked~label.sk-toggleable__label {\n",
              "  /* fitted */\n",
              "  background-color: var(--sklearn-color-fitted-level-2);\n",
              "}\n",
              "\n",
              "#sk-container-id-1 div.sk-label label.sk-toggleable__label,\n",
              "#sk-container-id-1 div.sk-label label {\n",
              "  /* The background is the default theme color */\n",
              "  color: var(--sklearn-color-text-on-default-background);\n",
              "}\n",
              "\n",
              "/* On hover, darken the color of the background */\n",
              "#sk-container-id-1 div.sk-label:hover label.sk-toggleable__label {\n",
              "  color: var(--sklearn-color-text);\n",
              "  background-color: var(--sklearn-color-unfitted-level-2);\n",
              "}\n",
              "\n",
              "/* Label box, darken color on hover, fitted */\n",
              "#sk-container-id-1 div.sk-label.fitted:hover label.sk-toggleable__label.fitted {\n",
              "  color: var(--sklearn-color-text);\n",
              "  background-color: var(--sklearn-color-fitted-level-2);\n",
              "}\n",
              "\n",
              "/* Estimator label */\n",
              "\n",
              "#sk-container-id-1 div.sk-label label {\n",
              "  font-family: monospace;\n",
              "  font-weight: bold;\n",
              "  display: inline-block;\n",
              "  line-height: 1.2em;\n",
              "}\n",
              "\n",
              "#sk-container-id-1 div.sk-label-container {\n",
              "  text-align: center;\n",
              "}\n",
              "\n",
              "/* Estimator-specific */\n",
              "#sk-container-id-1 div.sk-estimator {\n",
              "  font-family: monospace;\n",
              "  border: 1px dotted var(--sklearn-color-border-box);\n",
              "  border-radius: 0.25em;\n",
              "  box-sizing: border-box;\n",
              "  margin-bottom: 0.5em;\n",
              "  /* unfitted */\n",
              "  background-color: var(--sklearn-color-unfitted-level-0);\n",
              "}\n",
              "\n",
              "#sk-container-id-1 div.sk-estimator.fitted {\n",
              "  /* fitted */\n",
              "  background-color: var(--sklearn-color-fitted-level-0);\n",
              "}\n",
              "\n",
              "/* on hover */\n",
              "#sk-container-id-1 div.sk-estimator:hover {\n",
              "  /* unfitted */\n",
              "  background-color: var(--sklearn-color-unfitted-level-2);\n",
              "}\n",
              "\n",
              "#sk-container-id-1 div.sk-estimator.fitted:hover {\n",
              "  /* fitted */\n",
              "  background-color: var(--sklearn-color-fitted-level-2);\n",
              "}\n",
              "\n",
              "/* Specification for estimator info (e.g. \"i\" and \"?\") */\n",
              "\n",
              "/* Common style for \"i\" and \"?\" */\n",
              "\n",
              ".sk-estimator-doc-link,\n",
              "a:link.sk-estimator-doc-link,\n",
              "a:visited.sk-estimator-doc-link {\n",
              "  float: right;\n",
              "  font-size: smaller;\n",
              "  line-height: 1em;\n",
              "  font-family: monospace;\n",
              "  background-color: var(--sklearn-color-background);\n",
              "  border-radius: 1em;\n",
              "  height: 1em;\n",
              "  width: 1em;\n",
              "  text-decoration: none !important;\n",
              "  margin-left: 0.5em;\n",
              "  text-align: center;\n",
              "  /* unfitted */\n",
              "  border: var(--sklearn-color-unfitted-level-1) 1pt solid;\n",
              "  color: var(--sklearn-color-unfitted-level-1);\n",
              "}\n",
              "\n",
              ".sk-estimator-doc-link.fitted,\n",
              "a:link.sk-estimator-doc-link.fitted,\n",
              "a:visited.sk-estimator-doc-link.fitted {\n",
              "  /* fitted */\n",
              "  border: var(--sklearn-color-fitted-level-1) 1pt solid;\n",
              "  color: var(--sklearn-color-fitted-level-1);\n",
              "}\n",
              "\n",
              "/* On hover */\n",
              "div.sk-estimator:hover .sk-estimator-doc-link:hover,\n",
              ".sk-estimator-doc-link:hover,\n",
              "div.sk-label-container:hover .sk-estimator-doc-link:hover,\n",
              ".sk-estimator-doc-link:hover {\n",
              "  /* unfitted */\n",
              "  background-color: var(--sklearn-color-unfitted-level-3);\n",
              "  color: var(--sklearn-color-background);\n",
              "  text-decoration: none;\n",
              "}\n",
              "\n",
              "div.sk-estimator.fitted:hover .sk-estimator-doc-link.fitted:hover,\n",
              ".sk-estimator-doc-link.fitted:hover,\n",
              "div.sk-label-container:hover .sk-estimator-doc-link.fitted:hover,\n",
              ".sk-estimator-doc-link.fitted:hover {\n",
              "  /* fitted */\n",
              "  background-color: var(--sklearn-color-fitted-level-3);\n",
              "  color: var(--sklearn-color-background);\n",
              "  text-decoration: none;\n",
              "}\n",
              "\n",
              "/* Span, style for the box shown on hovering the info icon */\n",
              ".sk-estimator-doc-link span {\n",
              "  display: none;\n",
              "  z-index: 9999;\n",
              "  position: relative;\n",
              "  font-weight: normal;\n",
              "  right: .2ex;\n",
              "  padding: .5ex;\n",
              "  margin: .5ex;\n",
              "  width: min-content;\n",
              "  min-width: 20ex;\n",
              "  max-width: 50ex;\n",
              "  color: var(--sklearn-color-text);\n",
              "  box-shadow: 2pt 2pt 4pt #999;\n",
              "  /* unfitted */\n",
              "  background: var(--sklearn-color-unfitted-level-0);\n",
              "  border: .5pt solid var(--sklearn-color-unfitted-level-3);\n",
              "}\n",
              "\n",
              ".sk-estimator-doc-link.fitted span {\n",
              "  /* fitted */\n",
              "  background: var(--sklearn-color-fitted-level-0);\n",
              "  border: var(--sklearn-color-fitted-level-3);\n",
              "}\n",
              "\n",
              ".sk-estimator-doc-link:hover span {\n",
              "  display: block;\n",
              "}\n",
              "\n",
              "/* \"?\"-specific style due to the `<a>` HTML tag */\n",
              "\n",
              "#sk-container-id-1 a.estimator_doc_link {\n",
              "  float: right;\n",
              "  font-size: 1rem;\n",
              "  line-height: 1em;\n",
              "  font-family: monospace;\n",
              "  background-color: var(--sklearn-color-background);\n",
              "  border-radius: 1rem;\n",
              "  height: 1rem;\n",
              "  width: 1rem;\n",
              "  text-decoration: none;\n",
              "  /* unfitted */\n",
              "  color: var(--sklearn-color-unfitted-level-1);\n",
              "  border: var(--sklearn-color-unfitted-level-1) 1pt solid;\n",
              "}\n",
              "\n",
              "#sk-container-id-1 a.estimator_doc_link.fitted {\n",
              "  /* fitted */\n",
              "  border: var(--sklearn-color-fitted-level-1) 1pt solid;\n",
              "  color: var(--sklearn-color-fitted-level-1);\n",
              "}\n",
              "\n",
              "/* On hover */\n",
              "#sk-container-id-1 a.estimator_doc_link:hover {\n",
              "  /* unfitted */\n",
              "  background-color: var(--sklearn-color-unfitted-level-3);\n",
              "  color: var(--sklearn-color-background);\n",
              "  text-decoration: none;\n",
              "}\n",
              "\n",
              "#sk-container-id-1 a.estimator_doc_link.fitted:hover {\n",
              "  /* fitted */\n",
              "  background-color: var(--sklearn-color-fitted-level-3);\n",
              "}\n",
              "</style><div id=\"sk-container-id-1\" class=\"sk-top-container\"><div class=\"sk-text-repr-fallback\"><pre>DecisionTreeClassifier()</pre><b>In a Jupyter environment, please rerun this cell to show the HTML representation or trust the notebook. <br />On GitHub, the HTML representation is unable to render, please try loading this page with nbviewer.org.</b></div><div class=\"sk-container\" hidden><div class=\"sk-item\"><div class=\"sk-estimator fitted sk-toggleable\"><input class=\"sk-toggleable__control sk-hidden--visually\" id=\"sk-estimator-id-1\" type=\"checkbox\" checked><label for=\"sk-estimator-id-1\" class=\"sk-toggleable__label fitted sk-toggleable__label-arrow\"><div><div>DecisionTreeClassifier</div></div><div><a class=\"sk-estimator-doc-link fitted\" rel=\"noreferrer\" target=\"_blank\" href=\"https://scikit-learn.org/1.6/modules/generated/sklearn.tree.DecisionTreeClassifier.html\">?<span>Documentation for DecisionTreeClassifier</span></a><span class=\"sk-estimator-doc-link fitted\">i<span>Fitted</span></span></div></label><div class=\"sk-toggleable__content fitted\"><pre>DecisionTreeClassifier()</pre></div> </div></div></div></div>"
            ]
          },
          "metadata": {},
          "execution_count": 26
        }
      ]
    },
    {
      "cell_type": "code",
      "source": [
        "# Testar com nova fruta (brinque mudando o valor)\n",
        "nova_fruta = [[160]]\n",
        "print(\"Fruta prevista:\", modelo.predict(nova_fruta)[0])"
      ],
      "metadata": {
        "colab": {
          "base_uri": "https://localhost:8080/"
        },
        "id": "TF_5EUzJkW7F",
        "outputId": "d48e3764-b7bb-4766-811a-3bd8f4666e98"
      },
      "id": "TF_5EUzJkW7F",
      "execution_count": 27,
      "outputs": [
        {
          "output_type": "stream",
          "name": "stdout",
          "text": [
            "Fruta prevista: maçã\n"
          ]
        }
      ]
    },
    {
      "cell_type": "code",
      "source": [],
      "metadata": {
        "id": "bRtprnNhkWtM"
      },
      "id": "bRtprnNhkWtM",
      "execution_count": null,
      "outputs": []
    },
    {
      "id": "a93b4c22",
      "cell_type": "markdown",
      "source": [
        "# 9. Principais usos do Python e ferramentas (4 min)\n",
        "\n",
        "**Resumo:** Python é usado em dados, IA/ML, web, automação e integração.\n",
        "Bibliotecas-chave: `pandas`, `numpy`, `requests`, `matplotlib`, `scikit-learn`, `flask`."
      ],
      "metadata": {
        "id": "a93b4c22"
      }
    },
    {
      "id": "8a1e7e40",
      "cell_type": "code",
      "metadata": {
        "colab": {
          "base_uri": "https://localhost:8080/"
        },
        "id": "8a1e7e40",
        "outputId": "eeaa48e4-d11a-4055-9010-9b423f829c69"
      },
      "execution_count": null,
      "source": [
        "# pandas – tabelas de dados\n",
        "import pandas as pd\n",
        "df = pd.DataFrame({\"Nome\": [\"Ana\", \"João\"], \"Idade\": [25, 30]})\n",
        "print(df)\n",
        "\n",
        "# numpy – operações numéricas\n",
        "import numpy as np\n",
        "arr = np.array([1, 2, 3])\n",
        "print(\"Média via numpy:\", arr.mean())\n",
        "\n",
        "# requests – comunicação HTTP\n",
        "import requests\n",
        "r = requests.get(\"https://api.github.com\")\n",
        "print(\"Status GitHub API:\", r.status_code)\n",
        "\n",
        "\n",
        "\n",
        "# scikit-learn – exemplo de criação de modelo (sem treino aqui)\n",
        "from sklearn.linear_model import LinearRegression\n",
        "modelo_lr = LinearRegression()\n",
        "\n",
        "# flask – app web básico (não executa servidor no Colab, é só referência)\n",
        "from flask import Flask\n",
        "app = Flask(__name__)\n",
        "@app.route('/')\n",
        "def home():\n",
        "    return \"Olá, mundo!\"\n"
      ],
      "outputs": [
        {
          "output_type": "stream",
          "name": "stdout",
          "text": [
            "   Nome  Idade\n",
            "0   Ana     25\n",
            "1  João     30\n",
            "Média via numpy: 2.0\n",
            "Status GitHub API: 200\n"
          ]
        }
      ]
    },
    {
      "cell_type": "code",
      "source": [
        "# matplotlib – gráficos simples\n",
        "import matplotlib.pyplot as plt\n",
        "plt.plot([1, 2, 3], [4, 5, 6])\n",
        "plt.title(\"Exemplo rápido de gráfico\")\n",
        "plt.show()"
      ],
      "metadata": {
        "colab": {
          "base_uri": "https://localhost:8080/",
          "height": 453
        },
        "id": "lRIuj3fhkf4Q",
        "outputId": "257dda7d-b35e-4339-cecc-772a7a02f706"
      },
      "id": "lRIuj3fhkf4Q",
      "execution_count": null,
      "outputs": [
        {
          "output_type": "display_data",
          "data": {
            "text/plain": [
              "<Figure size 640x480 with 1 Axes>"
            ],
            "image/png": "[encoded data removed]"
          },
          "metadata": {}
        }
      ]
    },
    {
      "cell_type": "code",
      "source": [
        "import matplotlib.pyplot as plt\n",
        "\n",
        "categorias = [\"Python\", \"JavaScript\", \"Java\", \"C#\", \"C++\"]\n",
        "popularidade = [85, 78, 70, 65, 60]\n",
        "\n",
        "plt.bar(categorias, popularidade)\n",
        "plt.title(\"Popularidade de Linguagens (%)\")\n",
        "plt.xlabel(\"Linguagem\")\n",
        "plt.ylabel(\"Popularidade\")\n",
        "plt.show()"
      ],
      "metadata": {
        "id": "tjTK2Ph56Ql6",
        "colab": {
          "base_uri": "https://localhost:8080/",
          "height": 472
        },
        "outputId": "23602cbf-7474-4153-ff4a-c310ab2a36c2"
      },
      "id": "tjTK2Ph56Ql6",
      "execution_count": null,
      "outputs": [
        {
          "output_type": "display_data",
          "data": {
            "text/plain": [
              "<Figure size 640x480 with 1 Axes>"
            ],
            "image/png": "[encoded data removed]"
          },
          "metadata": {}
        }
      ]
    },
    {
      "cell_type": "code",
      "source": [],
      "metadata": {
        "id": "atMXZu6Bkw6R"
      },
      "id": "atMXZu6Bkw6R",
      "execution_count": null,
      "outputs": []
    },
    {
      "cell_type": "code",
      "source": [],
      "metadata": {
        "id": "JJiLuGigkw3Y"
      },
      "id": "JJiLuGigkw3Y",
      "execution_count": null,
      "outputs": []
    },
    {
      "cell_type": "code",
      "source": [
        "import matplotlib.pyplot as plt\n",
        "\n",
        "# Dados para o gráfico\n",
        "categorias = [\"Python\", \"JavaScript\", \"Java\", \"C#\", \"C++\"]\n",
        "popularidade = [85, 78, 70, 65, 60]\n",
        "\n",
        "# Criar gráfico mais elaborado\n",
        "plt.figure(figsize=(8, 5))\n",
        "barras = plt.bar(\n",
        "    categorias,\n",
        "    popularidade,\n",
        "    color=[\"#3776AB\", \"#F7DF1E\", \"#b07219\", \"#178600\", \"#00599C\"],\n",
        "    alpha=0.85\n",
        ")\n",
        "\n",
        "# Título e rótulos\n",
        "plt.title(\"Popularidade de Linguagens de Programação (%)\", fontsize=14, fontweight=\"bold\")\n",
        "plt.xlabel(\"Linguagem\", fontsize=12)\n",
        "plt.ylabel(\"Popularidade\", fontsize=12)\n",
        "\n",
        "# Mostrar valores acima das barras\n",
        "for barra in barras:\n",
        "    altura = barra.get_height()\n",
        "    plt.text(\n",
        "        barra.get_x() + barra.get_width() / 2,\n",
        "        altura + 1,\n",
        "        f\"{altura}%\",\n",
        "        ha=\"center\",\n",
        "        fontsize=10,\n",
        "        fontweight=\"bold\"\n",
        "    )\n",
        "\n",
        "# Ajustes visuais\n",
        "plt.ylim(0, 100)\n",
        "plt.grid(axis=\"y\", linestyle=\"--\", alpha=0.7)\n",
        "\n",
        "# Mostrar o gráfico\n",
        "plt.show()\n"
      ],
      "metadata": {
        "colab": {
          "base_uri": "https://localhost:8080/",
          "height": 492
        },
        "id": "OsYon6XzkwuE",
        "outputId": "65040460-e387-4143-8d65-04eb36bd91a0"
      },
      "id": "OsYon6XzkwuE",
      "execution_count": null,
      "outputs": [
        {
          "output_type": "display_data",
          "data": {
            "text/plain": [
              "<Figure size 800x500 with 1 Axes>"
            ],
            "image/png": "[encoded data removed]"
          },
          "metadata": {}
        }
      ]
    },
    {
      "cell_type": "code",
      "source": [],
      "metadata": {
        "id": "nRB4AOW6kxfF"
      },
      "id": "nRB4AOW6kxfF",
      "execution_count": null,
      "outputs": []
    }
  ]
}